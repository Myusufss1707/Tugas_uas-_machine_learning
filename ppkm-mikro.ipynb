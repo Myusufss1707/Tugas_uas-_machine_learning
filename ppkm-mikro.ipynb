{
 "cells": [
  {
   "cell_type": "code",
   "execution_count": 1,
   "id": "fifteen-costa",
   "metadata": {
    "execution": {
     "iopub.execute_input": "2021-04-05T10:47:53.039558Z",
     "iopub.status.busy": "2021-04-05T10:47:53.038938Z",
     "iopub.status.idle": "2021-04-05T10:48:47.994873Z",
     "shell.execute_reply": "2021-04-05T10:48:47.994079Z"
    },
    "papermill": {
     "duration": 54.982246,
     "end_time": "2021-04-05T10:48:47.995050",
     "exception": false,
     "start_time": "2021-04-05T10:47:53.012804",
     "status": "completed"
    },
    "tags": []
   },
   "outputs": [
    {
     "name": "stdout",
     "output_type": "stream",
     "text": [
      "Collecting swifter\r\n",
      "  Downloading swifter-1.0.7.tar.gz (633 kB)\r\n",
      "\u001b[K     |████████████████████████████████| 633 kB 902 kB/s \r\n",
      "\u001b[?25hRequirement already satisfied: pandas>=1.0.0 in /opt/conda/lib/python3.7/site-packages (from swifter) (1.2.2)\r\n",
      "Requirement already satisfied: psutil>=5.6.6 in /opt/conda/lib/python3.7/site-packages (from swifter) (5.8.0)\r\n",
      "Requirement already satisfied: dask[dataframe]>=2.10.0 in /opt/conda/lib/python3.7/site-packages (from swifter) (2021.3.0)\r\n",
      "Requirement already satisfied: tqdm>=4.33.0 in /opt/conda/lib/python3.7/site-packages (from swifter) (4.56.2)\r\n",
      "Requirement already satisfied: ipywidgets>=7.0.0cloudpickle>=0.2.2 in /opt/conda/lib/python3.7/site-packages (from swifter) (7.6.3)\r\n",
      "Requirement already satisfied: parso>0.4.0 in /opt/conda/lib/python3.7/site-packages (from swifter) (0.7.1)\r\n",
      "Requirement already satisfied: bleach>=3.1.1 in /opt/conda/lib/python3.7/site-packages (from swifter) (3.3.0)\r\n",
      "Collecting modin[ray]>=0.8.1.1\r\n",
      "  Downloading modin-0.9.1-py3-none-manylinux1_x86_64.whl (579 kB)\r\n",
      "\u001b[K     |████████████████████████████████| 579 kB 7.2 MB/s \r\n",
      "\u001b[?25hRequirement already satisfied: webencodings in /opt/conda/lib/python3.7/site-packages (from bleach>=3.1.1->swifter) (0.5.1)\r\n",
      "Requirement already satisfied: packaging in /opt/conda/lib/python3.7/site-packages (from bleach>=3.1.1->swifter) (20.9)\r\n",
      "Requirement already satisfied: six>=1.9.0 in /opt/conda/lib/python3.7/site-packages (from bleach>=3.1.1->swifter) (1.15.0)\r\n",
      "Requirement already satisfied: pyyaml in /opt/conda/lib/python3.7/site-packages (from dask[dataframe]>=2.10.0->swifter) (5.3.1)\r\n",
      "Requirement already satisfied: partd>=0.3.10 in /opt/conda/lib/python3.7/site-packages (from dask[dataframe]>=2.10.0->swifter) (1.1.0)\r\n",
      "Requirement already satisfied: fsspec>=0.6.0 in /opt/conda/lib/python3.7/site-packages (from dask[dataframe]>=2.10.0->swifter) (0.8.5)\r\n",
      "Requirement already satisfied: numpy>=1.15.1 in /opt/conda/lib/python3.7/site-packages (from dask[dataframe]>=2.10.0->swifter) (1.19.5)\r\n",
      "Requirement already satisfied: toolz>=0.8.2 in /opt/conda/lib/python3.7/site-packages (from dask[dataframe]>=2.10.0->swifter) (0.11.1)\r\n",
      "Requirement already satisfied: ipython>=4.0.0 in /opt/conda/lib/python3.7/site-packages (from ipywidgets>=7.0.0cloudpickle>=0.2.2->swifter) (7.20.0)\r\n",
      "Requirement already satisfied: ipykernel>=4.5.1 in /opt/conda/lib/python3.7/site-packages (from ipywidgets>=7.0.0cloudpickle>=0.2.2->swifter) (5.1.1)\r\n",
      "Requirement already satisfied: widgetsnbextension~=3.5.0 in /opt/conda/lib/python3.7/site-packages (from ipywidgets>=7.0.0cloudpickle>=0.2.2->swifter) (3.5.1)\r\n",
      "Requirement already satisfied: traitlets>=4.3.1 in /opt/conda/lib/python3.7/site-packages (from ipywidgets>=7.0.0cloudpickle>=0.2.2->swifter) (5.0.5)\r\n",
      "Requirement already satisfied: nbformat>=4.2.0 in /opt/conda/lib/python3.7/site-packages (from ipywidgets>=7.0.0cloudpickle>=0.2.2->swifter) (5.1.2)\r\n",
      "Requirement already satisfied: jupyterlab-widgets>=1.0.0 in /opt/conda/lib/python3.7/site-packages (from ipywidgets>=7.0.0cloudpickle>=0.2.2->swifter) (1.0.0)\r\n",
      "Requirement already satisfied: jupyter-client in /opt/conda/lib/python3.7/site-packages (from ipykernel>=4.5.1->ipywidgets>=7.0.0cloudpickle>=0.2.2->swifter) (6.1.11)\r\n",
      "Requirement already satisfied: tornado>=4.2 in /opt/conda/lib/python3.7/site-packages (from ipykernel>=4.5.1->ipywidgets>=7.0.0cloudpickle>=0.2.2->swifter) (5.0.2)\r\n",
      "Requirement already satisfied: setuptools>=18.5 in /opt/conda/lib/python3.7/site-packages (from ipython>=4.0.0->ipywidgets>=7.0.0cloudpickle>=0.2.2->swifter) (49.6.0.post20210108)\r\n",
      "Requirement already satisfied: backcall in /opt/conda/lib/python3.7/site-packages (from ipython>=4.0.0->ipywidgets>=7.0.0cloudpickle>=0.2.2->swifter) (0.2.0)\r\n",
      "Requirement already satisfied: prompt-toolkit!=3.0.0,!=3.0.1,<3.1.0,>=2.0.0 in /opt/conda/lib/python3.7/site-packages (from ipython>=4.0.0->ipywidgets>=7.0.0cloudpickle>=0.2.2->swifter) (3.0.16)\r\n",
      "Requirement already satisfied: jedi>=0.16 in /opt/conda/lib/python3.7/site-packages (from ipython>=4.0.0->ipywidgets>=7.0.0cloudpickle>=0.2.2->swifter) (0.17.2)\r\n",
      "Requirement already satisfied: pygments in /opt/conda/lib/python3.7/site-packages (from ipython>=4.0.0->ipywidgets>=7.0.0cloudpickle>=0.2.2->swifter) (2.8.0)\r\n",
      "Requirement already satisfied: pickleshare in /opt/conda/lib/python3.7/site-packages (from ipython>=4.0.0->ipywidgets>=7.0.0cloudpickle>=0.2.2->swifter) (0.7.5)\r\n",
      "Requirement already satisfied: decorator in /opt/conda/lib/python3.7/site-packages (from ipython>=4.0.0->ipywidgets>=7.0.0cloudpickle>=0.2.2->swifter) (4.4.2)\r\n",
      "Requirement already satisfied: pexpect>4.3 in /opt/conda/lib/python3.7/site-packages (from ipython>=4.0.0->ipywidgets>=7.0.0cloudpickle>=0.2.2->swifter) (4.8.0)\r\n",
      "Collecting pandas>=1.0.0\r\n",
      "  Downloading pandas-1.2.3-cp37-cp37m-manylinux1_x86_64.whl (9.9 MB)\r\n",
      "\u001b[K     |████████████████████████████████| 9.9 MB 12.8 MB/s \r\n",
      "\u001b[?25hCollecting ray<1.2.0,>=1.0.0\r\n",
      "  Downloading ray-1.1.0-cp37-cp37m-manylinux2014_x86_64.whl (48.5 MB)\r\n",
      "\u001b[K     |████████████████████████████████| 48.5 MB 47.7 MB/s \r\n",
      "\u001b[?25hCollecting pyarrow==1.0\r\n",
      "  Downloading pyarrow-1.0.0-cp37-cp37m-manylinux2014_x86_64.whl (17.2 MB)\r\n",
      "\u001b[K     |████████████████████████████████| 17.2 MB 54.7 MB/s \r\n",
      "\u001b[?25hRequirement already satisfied: pytz>=2017.3 in /opt/conda/lib/python3.7/site-packages (from pandas>=1.0.0->swifter) (2021.1)\r\n",
      "Requirement already satisfied: python-dateutil>=2.7.3 in /opt/conda/lib/python3.7/site-packages (from pandas>=1.0.0->swifter) (2.8.1)\r\n",
      "Requirement already satisfied: ipython-genutils in /opt/conda/lib/python3.7/site-packages (from nbformat>=4.2.0->ipywidgets>=7.0.0cloudpickle>=0.2.2->swifter) (0.2.0)\r\n",
      "Requirement already satisfied: jsonschema!=2.5.0,>=2.4 in /opt/conda/lib/python3.7/site-packages (from nbformat>=4.2.0->ipywidgets>=7.0.0cloudpickle>=0.2.2->swifter) (3.2.0)\r\n",
      "Requirement already satisfied: jupyter-core in /opt/conda/lib/python3.7/site-packages (from nbformat>=4.2.0->ipywidgets>=7.0.0cloudpickle>=0.2.2->swifter) (4.7.1)\r\n",
      "Requirement already satisfied: attrs>=17.4.0 in /opt/conda/lib/python3.7/site-packages (from jsonschema!=2.5.0,>=2.4->nbformat>=4.2.0->ipywidgets>=7.0.0cloudpickle>=0.2.2->swifter) (20.3.0)\r\n",
      "Requirement already satisfied: pyrsistent>=0.14.0 in /opt/conda/lib/python3.7/site-packages (from jsonschema!=2.5.0,>=2.4->nbformat>=4.2.0->ipywidgets>=7.0.0cloudpickle>=0.2.2->swifter) (0.17.3)\r\n",
      "Requirement already satisfied: importlib-metadata in /opt/conda/lib/python3.7/site-packages (from jsonschema!=2.5.0,>=2.4->nbformat>=4.2.0->ipywidgets>=7.0.0cloudpickle>=0.2.2->swifter) (3.4.0)\r\n",
      "Requirement already satisfied: locket in /opt/conda/lib/python3.7/site-packages (from partd>=0.3.10->dask[dataframe]>=2.10.0->swifter) (0.2.1)\r\n",
      "Requirement already satisfied: ptyprocess>=0.5 in /opt/conda/lib/python3.7/site-packages (from pexpect>4.3->ipython>=4.0.0->ipywidgets>=7.0.0cloudpickle>=0.2.2->swifter) (0.7.0)\r\n",
      "Requirement already satisfied: wcwidth in /opt/conda/lib/python3.7/site-packages (from prompt-toolkit!=3.0.0,!=3.0.1,<3.1.0,>=2.0.0->ipython>=4.0.0->ipywidgets>=7.0.0cloudpickle>=0.2.2->swifter) (0.2.5)\r\n",
      "Requirement already satisfied: aiohttp in /opt/conda/lib/python3.7/site-packages (from ray<1.2.0,>=1.0.0->modin[ray]>=0.8.1.1->swifter) (3.7.3)\r\n",
      "Requirement already satisfied: opencensus in /opt/conda/lib/python3.7/site-packages (from ray<1.2.0,>=1.0.0->modin[ray]>=0.8.1.1->swifter) (0.7.12)\r\n",
      "Requirement already satisfied: protobuf>=3.8.0 in /opt/conda/lib/python3.7/site-packages (from ray<1.2.0,>=1.0.0->modin[ray]>=0.8.1.1->swifter) (3.15.6)\r\n",
      "Requirement already satisfied: click>=7.0 in /opt/conda/lib/python3.7/site-packages (from ray<1.2.0,>=1.0.0->modin[ray]>=0.8.1.1->swifter) (7.1.2)\r\n",
      "Requirement already satisfied: gpustat in /opt/conda/lib/python3.7/site-packages (from ray<1.2.0,>=1.0.0->modin[ray]>=0.8.1.1->swifter) (0.6.0)\r\n",
      "Requirement already satisfied: filelock in /opt/conda/lib/python3.7/site-packages (from ray<1.2.0,>=1.0.0->modin[ray]>=0.8.1.1->swifter) (3.0.12)\r\n",
      "Requirement already satisfied: redis>=3.5.0 in /opt/conda/lib/python3.7/site-packages (from ray<1.2.0,>=1.0.0->modin[ray]>=0.8.1.1->swifter) (3.5.3)\r\n",
      "Requirement already satisfied: grpcio>=1.28.1 in /opt/conda/lib/python3.7/site-packages (from ray<1.2.0,>=1.0.0->modin[ray]>=0.8.1.1->swifter) (1.32.0)\r\n",
      "Requirement already satisfied: prometheus-client>=0.7.1 in /opt/conda/lib/python3.7/site-packages (from ray<1.2.0,>=1.0.0->modin[ray]>=0.8.1.1->swifter) (0.9.0)\r\n",
      "Requirement already satisfied: py-spy>=0.2.0 in /opt/conda/lib/python3.7/site-packages (from ray<1.2.0,>=1.0.0->modin[ray]>=0.8.1.1->swifter) (0.3.4)\r\n",
      "Requirement already satisfied: requests in /opt/conda/lib/python3.7/site-packages (from ray<1.2.0,>=1.0.0->modin[ray]>=0.8.1.1->swifter) (2.25.1)\r\n",
      "Requirement already satisfied: aiohttp-cors in /opt/conda/lib/python3.7/site-packages (from ray<1.2.0,>=1.0.0->modin[ray]>=0.8.1.1->swifter) (0.7.0)\r\n",
      "Requirement already satisfied: aioredis in /opt/conda/lib/python3.7/site-packages (from ray<1.2.0,>=1.0.0->modin[ray]>=0.8.1.1->swifter) (1.3.1)\r\n",
      "Requirement already satisfied: colorful in /opt/conda/lib/python3.7/site-packages (from ray<1.2.0,>=1.0.0->modin[ray]>=0.8.1.1->swifter) (0.5.4)\r\n",
      "Requirement already satisfied: colorama in /opt/conda/lib/python3.7/site-packages (from ray<1.2.0,>=1.0.0->modin[ray]>=0.8.1.1->swifter) (0.4.4)\r\n",
      "Requirement already satisfied: msgpack<2.0.0,>=1.0.0 in /opt/conda/lib/python3.7/site-packages (from ray<1.2.0,>=1.0.0->modin[ray]>=0.8.1.1->swifter) (1.0.2)\r\n",
      "Requirement already satisfied: notebook>=4.4.1 in /opt/conda/lib/python3.7/site-packages (from widgetsnbextension~=3.5.0->ipywidgets>=7.0.0cloudpickle>=0.2.2->swifter) (5.5.0)\r\n",
      "Requirement already satisfied: nbconvert in /opt/conda/lib/python3.7/site-packages (from notebook>=4.4.1->widgetsnbextension~=3.5.0->ipywidgets>=7.0.0cloudpickle>=0.2.2->swifter) (6.0.7)\r\n",
      "Requirement already satisfied: terminado>=0.8.1 in /opt/conda/lib/python3.7/site-packages (from notebook>=4.4.1->widgetsnbextension~=3.5.0->ipywidgets>=7.0.0cloudpickle>=0.2.2->swifter) (0.9.2)\r\n",
      "Requirement already satisfied: pyzmq>=17 in /opt/conda/lib/python3.7/site-packages (from notebook>=4.4.1->widgetsnbextension~=3.5.0->ipywidgets>=7.0.0cloudpickle>=0.2.2->swifter) (22.0.3)\r\n",
      "Requirement already satisfied: jinja2 in /opt/conda/lib/python3.7/site-packages (from notebook>=4.4.1->widgetsnbextension~=3.5.0->ipywidgets>=7.0.0cloudpickle>=0.2.2->swifter) (2.11.3)\r\n",
      "Requirement already satisfied: Send2Trash in /opt/conda/lib/python3.7/site-packages (from notebook>=4.4.1->widgetsnbextension~=3.5.0->ipywidgets>=7.0.0cloudpickle>=0.2.2->swifter) (1.5.0)\r\n",
      "Requirement already satisfied: typing-extensions>=3.6.5 in /opt/conda/lib/python3.7/site-packages (from aiohttp->ray<1.2.0,>=1.0.0->modin[ray]>=0.8.1.1->swifter) (3.7.4.3)\r\n",
      "Requirement already satisfied: yarl<2.0,>=1.0 in /opt/conda/lib/python3.7/site-packages (from aiohttp->ray<1.2.0,>=1.0.0->modin[ray]>=0.8.1.1->swifter) (1.6.3)\r\n",
      "Requirement already satisfied: chardet<4.0,>=2.0 in /opt/conda/lib/python3.7/site-packages (from aiohttp->ray<1.2.0,>=1.0.0->modin[ray]>=0.8.1.1->swifter) (3.0.4)\r\n",
      "Requirement already satisfied: async-timeout<4.0,>=3.0 in /opt/conda/lib/python3.7/site-packages (from aiohttp->ray<1.2.0,>=1.0.0->modin[ray]>=0.8.1.1->swifter) (3.0.1)\r\n",
      "Requirement already satisfied: multidict<7.0,>=4.5 in /opt/conda/lib/python3.7/site-packages (from aiohttp->ray<1.2.0,>=1.0.0->modin[ray]>=0.8.1.1->swifter) (5.1.0)\r\n",
      "Requirement already satisfied: idna>=2.0 in /opt/conda/lib/python3.7/site-packages (from yarl<2.0,>=1.0->aiohttp->ray<1.2.0,>=1.0.0->modin[ray]>=0.8.1.1->swifter) (2.10)\r\n",
      "Requirement already satisfied: hiredis in /opt/conda/lib/python3.7/site-packages (from aioredis->ray<1.2.0,>=1.0.0->modin[ray]>=0.8.1.1->swifter) (1.1.0)\r\n",
      "Requirement already satisfied: nvidia-ml-py3>=7.352.0 in /opt/conda/lib/python3.7/site-packages (from gpustat->ray<1.2.0,>=1.0.0->modin[ray]>=0.8.1.1->swifter) (7.352.0)\r\n",
      "Requirement already satisfied: blessings>=1.6 in /opt/conda/lib/python3.7/site-packages (from gpustat->ray<1.2.0,>=1.0.0->modin[ray]>=0.8.1.1->swifter) (1.7)\r\n",
      "Requirement already satisfied: zipp>=0.5 in /opt/conda/lib/python3.7/site-packages (from importlib-metadata->jsonschema!=2.5.0,>=2.4->nbformat>=4.2.0->ipywidgets>=7.0.0cloudpickle>=0.2.2->swifter) (3.4.0)\r\n",
      "Requirement already satisfied: MarkupSafe>=0.23 in /opt/conda/lib/python3.7/site-packages (from jinja2->notebook>=4.4.1->widgetsnbextension~=3.5.0->ipywidgets>=7.0.0cloudpickle>=0.2.2->swifter) (1.1.1)\r\n",
      "Requirement already satisfied: jupyterlab-pygments in /opt/conda/lib/python3.7/site-packages (from nbconvert->notebook>=4.4.1->widgetsnbextension~=3.5.0->ipywidgets>=7.0.0cloudpickle>=0.2.2->swifter) (0.1.2)\r\n",
      "Requirement already satisfied: mistune<2,>=0.8.1 in /opt/conda/lib/python3.7/site-packages (from nbconvert->notebook>=4.4.1->widgetsnbextension~=3.5.0->ipywidgets>=7.0.0cloudpickle>=0.2.2->swifter) (0.8.4)\r\n",
      "Requirement already satisfied: nbclient<0.6.0,>=0.5.0 in /opt/conda/lib/python3.7/site-packages (from nbconvert->notebook>=4.4.1->widgetsnbextension~=3.5.0->ipywidgets>=7.0.0cloudpickle>=0.2.2->swifter) (0.5.2)\r\n",
      "Requirement already satisfied: entrypoints>=0.2.2 in /opt/conda/lib/python3.7/site-packages (from nbconvert->notebook>=4.4.1->widgetsnbextension~=3.5.0->ipywidgets>=7.0.0cloudpickle>=0.2.2->swifter) (0.3)\r\n",
      "Requirement already satisfied: testpath in /opt/conda/lib/python3.7/site-packages (from nbconvert->notebook>=4.4.1->widgetsnbextension~=3.5.0->ipywidgets>=7.0.0cloudpickle>=0.2.2->swifter) (0.4.4)\r\n",
      "Requirement already satisfied: defusedxml in /opt/conda/lib/python3.7/site-packages (from nbconvert->notebook>=4.4.1->widgetsnbextension~=3.5.0->ipywidgets>=7.0.0cloudpickle>=0.2.2->swifter) (0.6.0)\r\n",
      "Requirement already satisfied: pandocfilters>=1.4.1 in /opt/conda/lib/python3.7/site-packages (from nbconvert->notebook>=4.4.1->widgetsnbextension~=3.5.0->ipywidgets>=7.0.0cloudpickle>=0.2.2->swifter) (1.4.2)\r\n",
      "Requirement already satisfied: async-generator in /opt/conda/lib/python3.7/site-packages (from nbclient<0.6.0,>=0.5.0->nbconvert->notebook>=4.4.1->widgetsnbextension~=3.5.0->ipywidgets>=7.0.0cloudpickle>=0.2.2->swifter) (1.10)\r\n",
      "Requirement already satisfied: nest-asyncio in /opt/conda/lib/python3.7/site-packages (from nbclient<0.6.0,>=0.5.0->nbconvert->notebook>=4.4.1->widgetsnbextension~=3.5.0->ipywidgets>=7.0.0cloudpickle>=0.2.2->swifter) (1.4.3)\r\n",
      "Requirement already satisfied: google-api-core<2.0.0,>=1.0.0 in /opt/conda/lib/python3.7/site-packages (from opencensus->ray<1.2.0,>=1.0.0->modin[ray]>=0.8.1.1->swifter) (1.22.4)\r\n",
      "Requirement already satisfied: opencensus-context==0.1.2 in /opt/conda/lib/python3.7/site-packages (from opencensus->ray<1.2.0,>=1.0.0->modin[ray]>=0.8.1.1->swifter) (0.1.2)\r\n",
      "Requirement already satisfied: google-auth<2.0dev,>=1.21.1 in /opt/conda/lib/python3.7/site-packages (from google-api-core<2.0.0,>=1.0.0->opencensus->ray<1.2.0,>=1.0.0->modin[ray]>=0.8.1.1->swifter) (1.24.0)\r\n",
      "Requirement already satisfied: googleapis-common-protos<2.0dev,>=1.6.0 in /opt/conda/lib/python3.7/site-packages (from google-api-core<2.0.0,>=1.0.0->opencensus->ray<1.2.0,>=1.0.0->modin[ray]>=0.8.1.1->swifter) (1.52.0)\r\n",
      "Requirement already satisfied: cachetools<5.0,>=2.0.0 in /opt/conda/lib/python3.7/site-packages (from google-auth<2.0dev,>=1.21.1->google-api-core<2.0.0,>=1.0.0->opencensus->ray<1.2.0,>=1.0.0->modin[ray]>=0.8.1.1->swifter) (4.2.1)\r\n",
      "Requirement already satisfied: rsa<5,>=3.1.4 in /opt/conda/lib/python3.7/site-packages (from google-auth<2.0dev,>=1.21.1->google-api-core<2.0.0,>=1.0.0->opencensus->ray<1.2.0,>=1.0.0->modin[ray]>=0.8.1.1->swifter) (4.7.1)\r\n",
      "Requirement already satisfied: pyasn1-modules>=0.2.1 in /opt/conda/lib/python3.7/site-packages (from google-auth<2.0dev,>=1.21.1->google-api-core<2.0.0,>=1.0.0->opencensus->ray<1.2.0,>=1.0.0->modin[ray]>=0.8.1.1->swifter) (0.2.7)\r\n",
      "Requirement already satisfied: pyasn1<0.5.0,>=0.4.6 in /opt/conda/lib/python3.7/site-packages (from pyasn1-modules>=0.2.1->google-auth<2.0dev,>=1.21.1->google-api-core<2.0.0,>=1.0.0->opencensus->ray<1.2.0,>=1.0.0->modin[ray]>=0.8.1.1->swifter) (0.4.8)\r\n",
      "Requirement already satisfied: urllib3<1.27,>=1.21.1 in /opt/conda/lib/python3.7/site-packages (from requests->ray<1.2.0,>=1.0.0->modin[ray]>=0.8.1.1->swifter) (1.26.3)\r\n",
      "Requirement already satisfied: certifi>=2017.4.17 in /opt/conda/lib/python3.7/site-packages (from requests->ray<1.2.0,>=1.0.0->modin[ray]>=0.8.1.1->swifter) (2020.12.5)\r\n",
      "Requirement already satisfied: pyparsing>=2.0.2 in /opt/conda/lib/python3.7/site-packages (from packaging->bleach>=3.1.1->swifter) (2.4.7)\r\n",
      "Building wheels for collected packages: swifter\r\n",
      "  Building wheel for swifter (setup.py) ... \u001b[?25l-\b \b\\\b \bdone\r\n",
      "\u001b[?25h  Created wheel for swifter: filename=swifter-1.0.7-py3-none-any.whl size=13976 sha256=2704ce978440a6bc256f52cc8f763ec9678ee134e643149d8f02bf58838692f9\r\n",
      "  Stored in directory: /root/.cache/pip/wheels/49/44/5b/2c3fcb044734cb9969adbeeab8de419e571fb3d9d0b9f62dae\r\n",
      "Successfully built swifter\r\n",
      "Installing collected packages: pandas, ray, pyarrow, modin, swifter\r\n",
      "  Attempting uninstall: pandas\r\n",
      "    Found existing installation: pandas 1.2.2\r\n",
      "    Uninstalling pandas-1.2.2:\r\n",
      "      Successfully uninstalled pandas-1.2.2\r\n",
      "  Attempting uninstall: ray\r\n",
      "    Found existing installation: ray 1.2.0\r\n",
      "    Uninstalling ray-1.2.0:\r\n",
      "      Successfully uninstalled ray-1.2.0\r\n",
      "  Attempting uninstall: pyarrow\r\n",
      "    Found existing installation: pyarrow 3.0.0\r\n",
      "    Uninstalling pyarrow-3.0.0:\r\n",
      "      Successfully uninstalled pyarrow-3.0.0\r\n",
      "Successfully installed modin-0.9.1 pandas-1.2.3 pyarrow-1.0.0 ray-1.1.0 swifter-1.0.7\r\n",
      "Collecting Sastrawi\r\n",
      "  Downloading Sastrawi-1.0.1-py2.py3-none-any.whl (209 kB)\r\n",
      "\u001b[K     |████████████████████████████████| 209 kB 896 kB/s \r\n",
      "\u001b[?25hInstalling collected packages: Sastrawi\r\n",
      "Successfully installed Sastrawi-1.0.1\r\n"
     ]
    }
   ],
   "source": [
    "!pip install swifter\n",
    "!pip install Sastrawi"
   ]
  },
  {
   "cell_type": "code",
   "execution_count": 2,
   "id": "buried-arcade",
   "metadata": {
    "execution": {
     "iopub.execute_input": "2021-04-05T10:48:48.168013Z",
     "iopub.status.busy": "2021-04-05T10:48:48.167274Z",
     "iopub.status.idle": "2021-04-05T10:48:49.103910Z",
     "shell.execute_reply": "2021-04-05T10:48:49.103310Z"
    },
    "papermill": {
     "duration": 1.024522,
     "end_time": "2021-04-05T10:48:49.104051",
     "exception": false,
     "start_time": "2021-04-05T10:48:48.079529",
     "status": "completed"
    },
    "tags": []
   },
   "outputs": [],
   "source": [
    "# matplot\n",
    "import seaborn as sns\n",
    "from wordcloud import WordCloud\n",
    "import matplotlib.pyplot as plt"
   ]
  },
  {
   "cell_type": "code",
   "execution_count": 3,
   "id": "early-demographic",
   "metadata": {
    "execution": {
     "iopub.execute_input": "2021-04-05T10:48:49.270935Z",
     "iopub.status.busy": "2021-04-05T10:48:49.270238Z",
     "iopub.status.idle": "2021-04-05T10:48:49.588532Z",
     "shell.execute_reply": "2021-04-05T10:48:49.587835Z"
    },
    "papermill": {
     "duration": 0.403645,
     "end_time": "2021-04-05T10:48:49.588678",
     "exception": false,
     "start_time": "2021-04-05T10:48:49.185033",
     "status": "completed"
    },
    "tags": []
   },
   "outputs": [],
   "source": [
    "# sklearn\n",
    "from sklearn.svm import LinearSVC\n",
    "from sklearn.naive_bayes import BernoulliNB\n",
    "from sklearn.linear_model import LogisticRegression\n",
    "\n",
    "from sklearn.model_selection import train_test_split, StratifiedKFold\n",
    "from sklearn.feature_extraction.text import TfidfVectorizer\n",
    "from sklearn.metrics import confusion_matrix, classification_report"
   ]
  },
  {
   "cell_type": "code",
   "execution_count": 4,
   "id": "recent-inside",
   "metadata": {
    "execution": {
     "iopub.execute_input": "2021-04-05T10:48:49.754421Z",
     "iopub.status.busy": "2021-04-05T10:48:49.753790Z",
     "iopub.status.idle": "2021-04-05T10:48:50.214789Z",
     "shell.execute_reply": "2021-04-05T10:48:50.214105Z"
    },
    "papermill": {
     "duration": 0.545978,
     "end_time": "2021-04-05T10:48:50.214929",
     "exception": false,
     "start_time": "2021-04-05T10:48:49.668951",
     "status": "completed"
    },
    "tags": []
   },
   "outputs": [],
   "source": [
    "#nltk\n",
    "import nltk\n",
    "from nltk.stem import WordNetLemmatizer\n",
    "from nltk.corpus import stopwords\n",
    "from nltk.stem import PorterStemmer\n",
    "from nltk.tokenize import sent_tokenize, word_tokenize\n"
   ]
  },
  {
   "cell_type": "code",
   "execution_count": 5,
   "id": "hidden-serbia",
   "metadata": {
    "execution": {
     "iopub.execute_input": "2021-04-05T10:48:50.385303Z",
     "iopub.status.busy": "2021-04-05T10:48:50.384266Z",
     "iopub.status.idle": "2021-04-05T10:48:51.685659Z",
     "shell.execute_reply": "2021-04-05T10:48:51.684922Z"
    },
    "papermill": {
     "duration": 1.391646,
     "end_time": "2021-04-05T10:48:51.685811",
     "exception": false,
     "start_time": "2021-04-05T10:48:50.294165",
     "status": "completed"
    },
    "tags": []
   },
   "outputs": [],
   "source": [
    "#sastrawi\n",
    "from Sastrawi.Stemmer.StemmerFactory import StemmerFactory\n",
    "from Sastrawi.StopWordRemover.StopWordRemoverFactory import StopWordRemoverFactory\n",
    "import swifter"
   ]
  },
  {
   "cell_type": "code",
   "execution_count": 6,
   "id": "supposed-plumbing",
   "metadata": {
    "execution": {
     "iopub.execute_input": "2021-04-05T10:48:51.851228Z",
     "iopub.status.busy": "2021-04-05T10:48:51.848961Z",
     "iopub.status.idle": "2021-04-05T10:48:51.853808Z",
     "shell.execute_reply": "2021-04-05T10:48:51.854261Z"
    },
    "papermill": {
     "duration": 0.088567,
     "end_time": "2021-04-05T10:48:51.854444",
     "exception": false,
     "start_time": "2021-04-05T10:48:51.765877",
     "status": "completed"
    },
    "tags": []
   },
   "outputs": [],
   "source": [
    "#util\n",
    "import re\n",
    "import string\n",
    "from collections import Counter\n",
    "import re\n",
    "import pickle\n",
    "import numpy as np\n",
    "import pandas as pd"
   ]
  },
  {
   "cell_type": "code",
   "execution_count": 7,
   "id": "assisted-ultimate",
   "metadata": {
    "execution": {
     "iopub.execute_input": "2021-04-05T10:48:52.053546Z",
     "iopub.status.busy": "2021-04-05T10:48:52.052889Z",
     "iopub.status.idle": "2021-04-05T10:48:52.077492Z",
     "shell.execute_reply": "2021-04-05T10:48:52.078034Z"
    },
    "papermill": {
     "duration": 0.133204,
     "end_time": "2021-04-05T10:48:52.078206",
     "exception": false,
     "start_time": "2021-04-05T10:48:51.945002",
     "status": "completed"
    },
    "tags": []
   },
   "outputs": [],
   "source": [
    "#importing the dataset\n",
    "DATASET_COLUMNS  = [\"kategori\",\"text\"]\n",
    "DATASET_ENCODING = \"ISO-8859-1\"\n",
    "dataset = pd.read_csv('../input/ppkm-micro/datasetppkmmikro.csv',\n",
    "                      encoding=DATASET_ENCODING , names=DATASET_COLUMNS)"
   ]
  },
  {
   "cell_type": "code",
   "execution_count": 8,
   "id": "prime-thing",
   "metadata": {
    "execution": {
     "iopub.execute_input": "2021-04-05T10:48:52.244004Z",
     "iopub.status.busy": "2021-04-05T10:48:52.243293Z",
     "iopub.status.idle": "2021-04-05T10:48:52.246147Z",
     "shell.execute_reply": "2021-04-05T10:48:52.245637Z"
    },
    "papermill": {
     "duration": 0.087488,
     "end_time": "2021-04-05T10:48:52.246276",
     "exception": false,
     "start_time": "2021-04-05T10:48:52.158788",
     "status": "completed"
    },
    "tags": []
   },
   "outputs": [],
   "source": [
    "decode_map = {0: \"NEGATIVE\", 1: \"POSITIVE\" , 2:\"NEUTRAL\" }\n",
    "def decode_sentiment(label):\n",
    "    return decode_map[int(label)]"
   ]
  },
  {
   "cell_type": "code",
   "execution_count": 9,
   "id": "cellular-posting",
   "metadata": {
    "execution": {
     "iopub.execute_input": "2021-04-05T10:48:52.409810Z",
     "iopub.status.busy": "2021-04-05T10:48:52.409174Z",
     "iopub.status.idle": "2021-04-05T10:48:52.425741Z",
     "shell.execute_reply": "2021-04-05T10:48:52.425130Z"
    },
    "papermill": {
     "duration": 0.099585,
     "end_time": "2021-04-05T10:48:52.425878",
     "exception": false,
     "start_time": "2021-04-05T10:48:52.326293",
     "status": "completed"
    },
    "tags": []
   },
   "outputs": [],
   "source": [
    "dataset.kategori = dataset.kategori.apply(lambda x: decode_sentiment(x))"
   ]
  },
  {
   "cell_type": "code",
   "execution_count": 10,
   "id": "balanced-nudist",
   "metadata": {
    "execution": {
     "iopub.execute_input": "2021-04-05T10:48:52.589968Z",
     "iopub.status.busy": "2021-04-05T10:48:52.589311Z",
     "iopub.status.idle": "2021-04-05T10:48:52.802514Z",
     "shell.execute_reply": "2021-04-05T10:48:52.801903Z"
    },
    "papermill": {
     "duration": 0.296538,
     "end_time": "2021-04-05T10:48:52.802647",
     "exception": false,
     "start_time": "2021-04-05T10:48:52.506109",
     "status": "completed"
    },
    "tags": []
   },
   "outputs": [
    {
     "data": {
      "image/png": "[encoded data removed]",
      "text/plain": [
       "<Figure size 720x432 with 1 Axes>"
      ]
     },
     "metadata": {
      "needs_background": "light"
     },
     "output_type": "display_data"
    }
   ],
   "source": [
    "ax = dataset['kategori'].value_counts().plot(kind='bar', figsize=(10,6),fontsize=13,color='#087E88')\n",
    "ax.set_title('Jumlah Data positif, negatif dan netral', size=10, pad=30)\n",
    "ax.set_ylabel('Jumlah Angka', fontsize=14)\n",
    "\n",
    "for i in ax.patches:\n",
    "    ax.text(i.get_x() + 0.19, i.get_height() + 8, str(round(i.get_height(), 6)), fontsize=15)"
   ]
  },
  {
   "cell_type": "code",
   "execution_count": 11,
   "id": "atlantic-helen",
   "metadata": {
    "execution": {
     "iopub.execute_input": "2021-04-05T10:48:52.969840Z",
     "iopub.status.busy": "2021-04-05T10:48:52.969194Z",
     "iopub.status.idle": "2021-04-05T10:48:52.988549Z",
     "shell.execute_reply": "2021-04-05T10:48:52.989081Z"
    },
    "papermill": {
     "duration": 0.10392,
     "end_time": "2021-04-05T10:48:52.989257",
     "exception": false,
     "start_time": "2021-04-05T10:48:52.885337",
     "status": "completed"
    },
    "tags": []
   },
   "outputs": [],
   "source": [
    "#PRE-PROCESSING\n",
    "factory = StemmerFactory()\n",
    "stemmer = factory.create_stemmer()"
   ]
  },
  {
   "cell_type": "code",
   "execution_count": 12,
   "id": "coordinated-richards",
   "metadata": {
    "execution": {
     "iopub.execute_input": "2021-04-05T10:48:53.157856Z",
     "iopub.status.busy": "2021-04-05T10:48:53.157138Z",
     "iopub.status.idle": "2021-04-05T10:48:53.170354Z",
     "shell.execute_reply": "2021-04-05T10:48:53.170894Z"
    },
    "papermill": {
     "duration": 0.098586,
     "end_time": "2021-04-05T10:48:53.171077",
     "exception": false,
     "start_time": "2021-04-05T10:48:53.072491",
     "status": "completed"
    },
    "tags": []
   },
   "outputs": [],
   "source": [
    "def lowercase(text):\n",
    "    return text.lower()\n",
    "\n",
    "def remove_unnecessary_char(text):\n",
    "    text = re.sub('((www\\.[^\\s]+)|(https?://[^\\s]+)|(http?://[^\\s]+))',' ',text) # Remove every URL\n",
    "    text = re.sub('\\n',' ',text) # Remove every '\\n'\n",
    "    text = re.sub('\\r',' ',text) # Remove every '\\r'\n",
    "    text = re.sub('@[^\\s]+[ \\t]','',text) # Remove every username\n",
    "    text = re.sub(r'\\brt\\b', '',text).strip() # Remove retweet symbol\n",
    "    text = re.sub('(?i)user','',text) # Remove every username\n",
    "    text = re.sub('(?i)url',' ',text) # Remove every url\n",
    "    text = re.sub(r'\\\\x..',' ',text) # Remove every emoji\n",
    "    text = re.sub('  +', ' ', text) # Remove extra spaces\n",
    "    text = re.sub(r'(\\w)\\1{2,}', r'\\1\\1', text) #Remove characters repeating more than twice \n",
    "\n",
    "    return text\n",
    "    \n",
    "def remove_nonaplhanumeric(text):\n",
    "    text = re.sub('[^0-9a-zA-Z]+', ' ', text) \n",
    "    return text\n",
    "\n",
    "def remove_stopword(text):\n",
    "    listStopword =  set(stopwords.words('indonesian'))\n",
    "    removed = []\n",
    "    for t in text:\n",
    "        if t not in listStopword:\n",
    "            removed.append(t)\n",
    "    return text\n",
    "\n",
    "def stemming(text):\n",
    "    return stemmer.stem(text)\n",
    "\n",
    "def remove_emoji(string): # Remove emojis\n",
    "    emoji_pattern = re.compile(\"[\"\n",
    "                           u\"\\U0001F600-\\U0001F64F\"  # emoticons\n",
    "                           u\"\\U0001F300-\\U0001F5FF\"  # symbols & pictographs\n",
    "                           u\"\\U0001F680-\\U0001F6FF\"  # transport & map symbols\n",
    "                           u\"\\U0001F1E0-\\U0001F1FF\"  # flags (iOS)\n",
    "                           u\"\\U00002702-\\U000027B0\"\n",
    "                           u\"\\U000024C2-\\U0001F251\"\n",
    "                           \"]+\", flags=re.UNICODE)\n",
    "    return emoji_pattern.sub(r'', string)\n",
    "def preprocess(text):\n",
    "    text = remove_unnecessary_char(text) # 1\n",
    "    text = lowercase(text) # 2\n",
    "    text = remove_nonaplhanumeric(text) # 3\n",
    "    text = stemming(text) # 4\n",
    "    text = remove_emoji(text)\n",
    "    text = remove_stopword(text) # 5\n",
    "    return text"
   ]
  },
  {
   "cell_type": "code",
   "execution_count": 13,
   "id": "attended-december",
   "metadata": {
    "execution": {
     "iopub.execute_input": "2021-04-05T10:48:53.337574Z",
     "iopub.status.busy": "2021-04-05T10:48:53.336934Z",
     "iopub.status.idle": "2021-04-05T10:52:01.715223Z",
     "shell.execute_reply": "2021-04-05T10:52:01.715798Z"
    },
    "papermill": {
     "duration": 188.463078,
     "end_time": "2021-04-05T10:52:01.716012",
     "exception": false,
     "start_time": "2021-04-05T10:48:53.252934",
     "status": "completed"
    },
    "tags": []
   },
   "outputs": [],
   "source": [
    "dataset['text'] = dataset['text'].apply(preprocess)"
   ]
  },
  {
   "cell_type": "code",
   "execution_count": 14,
   "id": "careful-installation",
   "metadata": {
    "execution": {
     "iopub.execute_input": "2021-04-05T10:52:01.886693Z",
     "iopub.status.busy": "2021-04-05T10:52:01.885684Z",
     "iopub.status.idle": "2021-04-05T10:52:01.899987Z",
     "shell.execute_reply": "2021-04-05T10:52:01.900572Z"
    },
    "papermill": {
     "duration": 0.101263,
     "end_time": "2021-04-05T10:52:01.900762",
     "exception": false,
     "start_time": "2021-04-05T10:52:01.799499",
     "status": "completed"
    },
    "tags": []
   },
   "outputs": [
    {
     "name": "stdout",
     "output_type": "stream",
     "text": [
      "Shape:  (625, 2)\n",
      "   kategori                                               text\n",
      "0  NEGATIVE  obat nganggur adalah kumpul dan obrol telah da...\n",
      "1  NEGATIVE                          kerumun vaksinasinasional\n",
      "2  NEGATIVE  langgarpsbb suka lihat rakyat jelata jaran reb...\n",
      "3  NEGATIVE  langgarpsbb ngamuk telah cekcok kemudian ubah ...\n",
      "4  NEGATIVE  pelanggarpsbb tidak guna masker di jl bedugul ...\n"
     ]
    }
   ],
   "source": [
    "print(\"Shape: \", dataset.shape)\n",
    "print (dataset.head())"
   ]
  },
  {
   "cell_type": "code",
   "execution_count": 15,
   "id": "operating-fundamental",
   "metadata": {
    "execution": {
     "iopub.execute_input": "2021-04-05T10:52:02.081817Z",
     "iopub.status.busy": "2021-04-05T10:52:02.081153Z",
     "iopub.status.idle": "2021-04-05T10:52:02.087280Z",
     "shell.execute_reply": "2021-04-05T10:52:02.087782Z"
    },
    "papermill": {
     "duration": 0.094743,
     "end_time": "2021-04-05T10:52:02.087986",
     "exception": false,
     "start_time": "2021-04-05T10:52:01.993243",
     "status": "completed"
    },
    "tags": []
   },
   "outputs": [],
   "source": [
    "X_train, X_test, y_train, y_test = train_test_split(dataset['text'],dataset['kategori'],\n",
    "                                                    test_size = 0.05, random_state = 10)"
   ]
  },
  {
   "cell_type": "code",
   "execution_count": 16,
   "id": "bizarre-designer",
   "metadata": {
    "execution": {
     "iopub.execute_input": "2021-04-05T10:52:02.270119Z",
     "iopub.status.busy": "2021-04-05T10:52:02.264952Z",
     "iopub.status.idle": "2021-04-05T10:52:02.336448Z",
     "shell.execute_reply": "2021-04-05T10:52:02.335792Z"
    },
    "papermill": {
     "duration": 0.164061,
     "end_time": "2021-04-05T10:52:02.336606",
     "exception": false,
     "start_time": "2021-04-05T10:52:02.172545",
     "status": "completed"
    },
    "tags": []
   },
   "outputs": [
    {
     "name": "stdout",
     "output_type": "stream",
     "text": [
      "Vectoriser fitted.\n",
      "No. of feature_words:  9551\n"
     ]
    }
   ],
   "source": [
    "vectoriser = TfidfVectorizer(ngram_range=(1,2), max_features=800000)\n",
    "vectoriser.fit(X_train)\n",
    "print(f'Vectoriser fitted.')\n",
    "print('No. of feature_words: ', len(vectoriser.get_feature_names()))"
   ]
  },
  {
   "cell_type": "code",
   "execution_count": 17,
   "id": "formal-choice",
   "metadata": {
    "execution": {
     "iopub.execute_input": "2021-04-05T10:52:02.547075Z",
     "iopub.status.busy": "2021-04-05T10:52:02.538113Z",
     "iopub.status.idle": "2021-04-05T10:52:02.561122Z",
     "shell.execute_reply": "2021-04-05T10:52:02.560542Z"
    },
    "papermill": {
     "duration": 0.139421,
     "end_time": "2021-04-05T10:52:02.561261",
     "exception": false,
     "start_time": "2021-04-05T10:52:02.421840",
     "status": "completed"
    },
    "tags": []
   },
   "outputs": [],
   "source": [
    "X_train = vectoriser.transform(X_train)\n",
    "X_test  = vectoriser.transform(X_test)"
   ]
  },
  {
   "cell_type": "code",
   "execution_count": 18,
   "id": "polished-morrison",
   "metadata": {
    "execution": {
     "iopub.execute_input": "2021-04-05T10:52:02.736883Z",
     "iopub.status.busy": "2021-04-05T10:52:02.736190Z",
     "iopub.status.idle": "2021-04-05T10:52:02.816838Z",
     "shell.execute_reply": "2021-04-05T10:52:02.816104Z"
    },
    "papermill": {
     "duration": 0.170735,
     "end_time": "2021-04-05T10:52:02.816994",
     "exception": false,
     "start_time": "2021-04-05T10:52:02.646259",
     "status": "completed"
    },
    "tags": []
   },
   "outputs": [],
   "source": [
    "# Pemodelan\n",
    "from sklearn.neighbors import KNeighborsClassifier\n",
    "from sklearn.naive_bayes import GaussianNB, MultinomialNB, BernoulliNB\n",
    "from sklearn.linear_model import LogisticRegression, SGDClassifier\n",
    "from sklearn.svm import SVC, LinearSVC, NuSVC\n",
    "from sklearn.metrics import accuracy_score, classification_report"
   ]
  },
  {
   "cell_type": "code",
   "execution_count": 19,
   "id": "experienced-roller",
   "metadata": {
    "execution": {
     "iopub.execute_input": "2021-04-05T10:52:02.994203Z",
     "iopub.status.busy": "2021-04-05T10:52:02.993197Z",
     "iopub.status.idle": "2021-04-05T10:52:02.996949Z",
     "shell.execute_reply": "2021-04-05T10:52:02.996357Z"
    },
    "papermill": {
     "duration": 0.094527,
     "end_time": "2021-04-05T10:52:02.997101",
     "exception": false,
     "start_time": "2021-04-05T10:52:02.902574",
     "status": "completed"
    },
    "tags": []
   },
   "outputs": [],
   "source": [
    "KNN = KNeighborsClassifier(n_neighbors=1)\n",
    "BNB = BernoulliNB()\n",
    "LR = LogisticRegression()\n"
   ]
  },
  {
   "cell_type": "code",
   "execution_count": 20,
   "id": "blocked-vertical",
   "metadata": {
    "execution": {
     "iopub.execute_input": "2021-04-05T10:52:03.173534Z",
     "iopub.status.busy": "2021-04-05T10:52:03.172558Z",
     "iopub.status.idle": "2021-04-05T10:52:03.176033Z",
     "shell.execute_reply": "2021-04-05T10:52:03.175498Z"
    },
    "papermill": {
     "duration": 0.093685,
     "end_time": "2021-04-05T10:52:03.176170",
     "exception": false,
     "start_time": "2021-04-05T10:52:03.082485",
     "status": "completed"
    },
    "tags": []
   },
   "outputs": [],
   "source": [
    "def model_Evaluate(model):\n",
    "    \n",
    "    # Predict values for Test dataset\n",
    "    y_pred = model.predict(X_test)\n",
    "\n",
    "    # Print the evaluation metrics for the dataset.\n",
    "    print(classification_report(y_test, y_pred))"
   ]
  },
  {
   "cell_type": "code",
   "execution_count": 21,
   "id": "pointed-prompt",
   "metadata": {
    "execution": {
     "iopub.execute_input": "2021-04-05T10:52:03.359124Z",
     "iopub.status.busy": "2021-04-05T10:52:03.353989Z",
     "iopub.status.idle": "2021-04-05T10:52:03.374126Z",
     "shell.execute_reply": "2021-04-05T10:52:03.374876Z"
    },
    "papermill": {
     "duration": 0.113074,
     "end_time": "2021-04-05T10:52:03.375103",
     "exception": false,
     "start_time": "2021-04-05T10:52:03.262029",
     "status": "completed"
    },
    "tags": []
   },
   "outputs": [
    {
     "name": "stdout",
     "output_type": "stream",
     "text": [
      "KNN Accuracy : 0.75\n",
      "\n",
      "              precision    recall  f1-score   support\n",
      "\n",
      "    NEGATIVE       0.80      0.92      0.86        13\n",
      "     NEUTRAL       0.71      0.56      0.63         9\n",
      "    POSITIVE       0.70      0.70      0.70        10\n",
      "\n",
      "    accuracy                           0.75        32\n",
      "   macro avg       0.74      0.73      0.73        32\n",
      "weighted avg       0.74      0.75      0.74        32\n",
      "\n"
     ]
    }
   ],
   "source": [
    "KNN.fit(X_train,y_train)\n",
    "y2_KNN_model = KNN.predict(X_test)\n",
    "print(\"KNN Accuracy :\", accuracy_score(y_test, y2_KNN_model))\n",
    "print(\"\")\n",
    "model_Evaluate(KNN)"
   ]
  },
  {
   "cell_type": "code",
   "execution_count": 22,
   "id": "juvenile-regulation",
   "metadata": {
    "execution": {
     "iopub.execute_input": "2021-04-05T10:52:03.550604Z",
     "iopub.status.busy": "2021-04-05T10:52:03.549949Z",
     "iopub.status.idle": "2021-04-05T10:52:03.558410Z",
     "shell.execute_reply": "2021-04-05T10:52:03.557798Z"
    },
    "papermill": {
     "duration": 0.098381,
     "end_time": "2021-04-05T10:52:03.558562",
     "exception": false,
     "start_time": "2021-04-05T10:52:03.460181",
     "status": "completed"
    },
    "tags": []
   },
   "outputs": [
    {
     "name": "stdout",
     "output_type": "stream",
     "text": [
      "KNN Accuracy : 0.75\n"
     ]
    }
   ],
   "source": [
    "KNN.fit(X_train,y_train)\n",
    "y_test_KNN_model = KNN.predict(X_test)\n",
    "print(\"KNN Accuracy :\", accuracy_score(y_test, y_test_KNN_model))"
   ]
  },
  {
   "cell_type": "code",
   "execution_count": 23,
   "id": "interior-inspection",
   "metadata": {
    "execution": {
     "iopub.execute_input": "2021-04-05T10:52:03.735394Z",
     "iopub.status.busy": "2021-04-05T10:52:03.734733Z",
     "iopub.status.idle": "2021-04-05T10:52:03.751375Z",
     "shell.execute_reply": "2021-04-05T10:52:03.750732Z"
    },
    "papermill": {
     "duration": 0.106521,
     "end_time": "2021-04-05T10:52:03.751536",
     "exception": false,
     "start_time": "2021-04-05T10:52:03.645015",
     "status": "completed"
    },
    "tags": []
   },
   "outputs": [
    {
     "name": "stdout",
     "output_type": "stream",
     "text": [
      "              precision    recall  f1-score   support\n",
      "\n",
      "    NEGATIVE       1.00      0.31      0.47        13\n",
      "     NEUTRAL       0.32      0.67      0.43         9\n",
      "    POSITIVE       0.67      0.60      0.63        10\n",
      "\n",
      "    accuracy                           0.50        32\n",
      "   macro avg       0.66      0.52      0.51        32\n",
      "weighted avg       0.70      0.50      0.51        32\n",
      "\n"
     ]
    }
   ],
   "source": [
    "BNBmodel = BernoulliNB(alpha = 2)\n",
    "BNBmodel.fit(X_train, y_train)\n",
    "model_Evaluate(BNBmodel)"
   ]
  },
  {
   "cell_type": "code",
   "execution_count": 24,
   "id": "through-satin",
   "metadata": {
    "execution": {
     "iopub.execute_input": "2021-04-05T10:52:03.931459Z",
     "iopub.status.busy": "2021-04-05T10:52:03.928575Z",
     "iopub.status.idle": "2021-04-05T10:52:03.939422Z",
     "shell.execute_reply": "2021-04-05T10:52:03.940031Z"
    },
    "papermill": {
     "duration": 0.103777,
     "end_time": "2021-04-05T10:52:03.940200",
     "exception": false,
     "start_time": "2021-04-05T10:52:03.836423",
     "status": "completed"
    },
    "tags": []
   },
   "outputs": [
    {
     "name": "stdout",
     "output_type": "stream",
     "text": [
      "BNB Accuracy : 0.53125\n"
     ]
    }
   ],
   "source": [
    "BNB.fit(X_train,y_train)\n",
    "y_test_BNB_model = BNB.predict(X_test)\n",
    "print(\"BNB Accuracy :\", accuracy_score(y_test, y_test_BNB_model))"
   ]
  },
  {
   "cell_type": "code",
   "execution_count": 25,
   "id": "agricultural-pound",
   "metadata": {
    "execution": {
     "iopub.execute_input": "2021-04-05T10:52:04.119660Z",
     "iopub.status.busy": "2021-04-05T10:52:04.118955Z",
     "iopub.status.idle": "2021-04-05T10:52:04.410201Z",
     "shell.execute_reply": "2021-04-05T10:52:04.411027Z"
    },
    "papermill": {
     "duration": 0.385332,
     "end_time": "2021-04-05T10:52:04.411312",
     "exception": false,
     "start_time": "2021-04-05T10:52:04.025980",
     "status": "completed"
    },
    "tags": []
   },
   "outputs": [],
   "source": [
    "LR.fit(X_train,y_train)\n",
    "y_test_LR_model = LR.predict(X_test)"
   ]
  },
  {
   "cell_type": "code",
   "execution_count": 26,
   "id": "turkish-attack",
   "metadata": {
    "execution": {
     "iopub.execute_input": "2021-04-05T10:52:04.636140Z",
     "iopub.status.busy": "2021-04-05T10:52:04.635413Z",
     "iopub.status.idle": "2021-04-05T10:52:04.639133Z",
     "shell.execute_reply": "2021-04-05T10:52:04.638284Z"
    },
    "papermill": {
     "duration": 0.093703,
     "end_time": "2021-04-05T10:52:04.639309",
     "exception": false,
     "start_time": "2021-04-05T10:52:04.545606",
     "status": "completed"
    },
    "tags": []
   },
   "outputs": [
    {
     "name": "stdout",
     "output_type": "stream",
     "text": [
      "LR Accuracy : 0.6875\n"
     ]
    }
   ],
   "source": [
    "print(\"LR Accuracy :\", accuracy_score(y_test, y_test_LR_model))"
   ]
  },
  {
   "cell_type": "code",
   "execution_count": 27,
   "id": "auburn-plane",
   "metadata": {
    "execution": {
     "iopub.execute_input": "2021-04-05T10:52:04.820860Z",
     "iopub.status.busy": "2021-04-05T10:52:04.820186Z",
     "iopub.status.idle": "2021-04-05T10:52:06.375105Z",
     "shell.execute_reply": "2021-04-05T10:52:06.374139Z"
    },
    "papermill": {
     "duration": 1.647618,
     "end_time": "2021-04-05T10:52:06.375298",
     "exception": false,
     "start_time": "2021-04-05T10:52:04.727680",
     "status": "completed"
    },
    "tags": []
   },
   "outputs": [
    {
     "name": "stdout",
     "output_type": "stream",
     "text": [
      "              precision    recall  f1-score   support\n",
      "\n",
      "    NEGATIVE       0.81      1.00      0.90        13\n",
      "     NEUTRAL       0.67      0.44      0.53         9\n",
      "    POSITIVE       0.60      0.60      0.60        10\n",
      "\n",
      "    accuracy                           0.72        32\n",
      "   macro avg       0.69      0.68      0.68        32\n",
      "weighted avg       0.71      0.72      0.70        32\n",
      "\n"
     ]
    }
   ],
   "source": [
    "LRmodel = LogisticRegression(C = 2, max_iter = 1000, n_jobs=-1)\n",
    "LRmodel.fit(X_train, y_train)\n",
    "model_Evaluate(LRmodel)"
   ]
  }
 ],
 "metadata": {
  "kernelspec": {
   "display_name": "Python 3",
   "language": "python",
   "name": "python3"
  },
  "language_info": {
   "codemirror_mode": {
    "name": "ipython",
    "version": 3
   },
   "file_extension": ".py",
   "mimetype": "text/x-python",
   "name": "python",
   "nbconvert_exporter": "python",
   "pygments_lexer": "ipython3",
   "version": "3.7.9"
  },
  "papermill": {
   "default_parameters": {},
   "duration": 260.435118,
   "end_time": "2021-04-05T10:52:07.474879",
   "environment_variables": {},
   "exception": null,
   "input_path": "__notebook__.ipynb",
   "output_path": "__notebook__.ipynb",
   "parameters": {},
   "start_time": "2021-04-05T10:47:47.039761",
   "version": "2.3.2"
  }
 },
 "nbformat": 4,
 "nbformat_minor": 5
}
